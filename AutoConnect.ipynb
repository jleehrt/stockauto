{
  "cells": [
    {
      "cell_type": "code",
      "metadata": {},
      "source": [
        "from pywinauto import application\n",
        "import time\n",
        "import os\n",
        "\n",
        "os.system('taskkill /IM coStarter* /F /T')\n",
        "os.system('taskkill /IM CpStart* /F /T')\n",
        "os.system('wmic process where \"name like \\'%coStarter%\\'\" call terminate')\n",
        "os.system('wmic process where \"name like \\'%CpStart%\\'\" call terminate')\n",
        "time.sleep(5)        \n",
        "\n",
        "app = application.Application()\n",
        "app.start('C:\\CREON\\STARTER\\coStarter.exe /prj:cp /id:jlee05 /pwd:1277L@ /pwdcert:19283746l^^ /autostart')\n",
        "time.sleep(60)"
      ],
      "outputs": [],
      "execution_count": null
    }
  ],
  "metadata": {
    "anaconda-cloud": {},
    "kernelspec": {
      "display_name": "Python 3",
      "language": "python",
      "name": "python3"
    },
    "language_info": {
      "codemirror_mode": {
        "name": "ipython",
        "version": 3
      },
      "file_extension": ".py",
      "mimetype": "text/x-python",
      "name": "python",
      "nbconvert_exporter": "python",
      "pygments_lexer": "ipython3",
      "version": "3.6.1"
    }
  },
  "nbformat": 4,
  "nbformat_minor": 4
}